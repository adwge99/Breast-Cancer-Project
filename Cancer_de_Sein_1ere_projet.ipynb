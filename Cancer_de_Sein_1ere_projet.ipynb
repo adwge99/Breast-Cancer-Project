{
  "nbformat": 4,
  "nbformat_minor": 0,
  "metadata": {
    "colab": {
      "name": "Cancer de Sein 1ere projet.ipynb",
      "provenance": [],
      "toc_visible": true,
      "mount_file_id": "15u07lcelesBalE5-Xlnyu8SaAnJ_PpMh",
      "authorship_tag": "ABX9TyMKCXixEtp+Gq5tSLIB3tQs",
      "include_colab_link": true
    },
    "kernelspec": {
      "name": "python3",
      "display_name": "Python 3"
    }
  },
  "cells": [
    {
      "cell_type": "markdown",
      "metadata": {
        "id": "view-in-github",
        "colab_type": "text"
      },
      "source": [
        "<a href=\"https://colab.research.google.com/github/adwge99/Projects/blob/main/Cancer_de_Sein_1ere_projet.ipynb\" target=\"_parent\"><img src=\"https://colab.research.google.com/assets/colab-badge.svg\" alt=\"Open In Colab\"/></a>"
      ]
    },
    {
      "cell_type": "markdown",
      "metadata": {
        "id": "_R6Jjk5q0RoK"
      },
      "source": [
        "# Cancer de Sein 1er projet\n",
        "Pour ce projet j'essaye de suivre un tutorial pour apprendre a créer et a trainer un modele de reseaux de neurones."
      ]
    },
    {
      "cell_type": "code",
      "metadata": {
        "id": "6p-78G_EcPDd",
        "colab": {
          "base_uri": "https://localhost:8080/"
        },
        "outputId": "0b496cd2-8b87-446e-eb5d-45b16ee5f05a"
      },
      "source": [
        "pip install tensorflow"
      ],
      "execution_count": null,
      "outputs": [
        {
          "output_type": "stream",
          "name": "stdout",
          "text": [
            "Requirement already satisfied: tensorflow in /usr/local/lib/python3.7/dist-packages (2.7.0)\n",
            "Requirement already satisfied: astunparse>=1.6.0 in /usr/local/lib/python3.7/dist-packages (from tensorflow) (1.6.3)\n",
            "Requirement already satisfied: flatbuffers<3.0,>=1.12 in /usr/local/lib/python3.7/dist-packages (from tensorflow) (2.0)\n",
            "Requirement already satisfied: tensorflow-io-gcs-filesystem>=0.21.0 in /usr/local/lib/python3.7/dist-packages (from tensorflow) (0.22.0)\n",
            "Requirement already satisfied: wheel<1.0,>=0.32.0 in /usr/local/lib/python3.7/dist-packages (from tensorflow) (0.37.0)\n",
            "Requirement already satisfied: tensorflow-estimator<2.8,~=2.7.0rc0 in /usr/local/lib/python3.7/dist-packages (from tensorflow) (2.7.0)\n",
            "Requirement already satisfied: numpy>=1.14.5 in /usr/local/lib/python3.7/dist-packages (from tensorflow) (1.19.5)\n",
            "Requirement already satisfied: google-pasta>=0.1.1 in /usr/local/lib/python3.7/dist-packages (from tensorflow) (0.2.0)\n",
            "Requirement already satisfied: wrapt>=1.11.0 in /usr/local/lib/python3.7/dist-packages (from tensorflow) (1.13.3)\n",
            "Requirement already satisfied: gast<0.5.0,>=0.2.1 in /usr/local/lib/python3.7/dist-packages (from tensorflow) (0.4.0)\n",
            "Requirement already satisfied: opt-einsum>=2.3.2 in /usr/local/lib/python3.7/dist-packages (from tensorflow) (3.3.0)\n",
            "Requirement already satisfied: absl-py>=0.4.0 in /usr/local/lib/python3.7/dist-packages (from tensorflow) (0.12.0)\n",
            "Requirement already satisfied: termcolor>=1.1.0 in /usr/local/lib/python3.7/dist-packages (from tensorflow) (1.1.0)\n",
            "Requirement already satisfied: tensorboard~=2.6 in /usr/local/lib/python3.7/dist-packages (from tensorflow) (2.7.0)\n",
            "Requirement already satisfied: protobuf>=3.9.2 in /usr/local/lib/python3.7/dist-packages (from tensorflow) (3.17.3)\n",
            "Requirement already satisfied: grpcio<2.0,>=1.24.3 in /usr/local/lib/python3.7/dist-packages (from tensorflow) (1.42.0)\n",
            "Requirement already satisfied: six>=1.12.0 in /usr/local/lib/python3.7/dist-packages (from tensorflow) (1.15.0)\n",
            "Requirement already satisfied: h5py>=2.9.0 in /usr/local/lib/python3.7/dist-packages (from tensorflow) (3.1.0)\n",
            "Requirement already satisfied: keras-preprocessing>=1.1.1 in /usr/local/lib/python3.7/dist-packages (from tensorflow) (1.1.2)\n",
            "Requirement already satisfied: typing-extensions>=3.6.6 in /usr/local/lib/python3.7/dist-packages (from tensorflow) (3.10.0.2)\n",
            "Requirement already satisfied: libclang>=9.0.1 in /usr/local/lib/python3.7/dist-packages (from tensorflow) (12.0.0)\n",
            "Requirement already satisfied: keras<2.8,>=2.7.0rc0 in /usr/local/lib/python3.7/dist-packages (from tensorflow) (2.7.0)\n",
            "Requirement already satisfied: cached-property in /usr/local/lib/python3.7/dist-packages (from h5py>=2.9.0->tensorflow) (1.5.2)\n",
            "Requirement already satisfied: google-auth<3,>=1.6.3 in /usr/local/lib/python3.7/dist-packages (from tensorboard~=2.6->tensorflow) (1.35.0)\n",
            "Requirement already satisfied: tensorboard-plugin-wit>=1.6.0 in /usr/local/lib/python3.7/dist-packages (from tensorboard~=2.6->tensorflow) (1.8.0)\n",
            "Requirement already satisfied: tensorboard-data-server<0.7.0,>=0.6.0 in /usr/local/lib/python3.7/dist-packages (from tensorboard~=2.6->tensorflow) (0.6.1)\n",
            "Requirement already satisfied: markdown>=2.6.8 in /usr/local/lib/python3.7/dist-packages (from tensorboard~=2.6->tensorflow) (3.3.6)\n",
            "Requirement already satisfied: google-auth-oauthlib<0.5,>=0.4.1 in /usr/local/lib/python3.7/dist-packages (from tensorboard~=2.6->tensorflow) (0.4.6)\n",
            "Requirement already satisfied: werkzeug>=0.11.15 in /usr/local/lib/python3.7/dist-packages (from tensorboard~=2.6->tensorflow) (1.0.1)\n",
            "Requirement already satisfied: requests<3,>=2.21.0 in /usr/local/lib/python3.7/dist-packages (from tensorboard~=2.6->tensorflow) (2.23.0)\n",
            "Requirement already satisfied: setuptools>=41.0.0 in /usr/local/lib/python3.7/dist-packages (from tensorboard~=2.6->tensorflow) (57.4.0)\n",
            "Requirement already satisfied: cachetools<5.0,>=2.0.0 in /usr/local/lib/python3.7/dist-packages (from google-auth<3,>=1.6.3->tensorboard~=2.6->tensorflow) (4.2.4)\n",
            "Requirement already satisfied: rsa<5,>=3.1.4 in /usr/local/lib/python3.7/dist-packages (from google-auth<3,>=1.6.3->tensorboard~=2.6->tensorflow) (4.8)\n",
            "Requirement already satisfied: pyasn1-modules>=0.2.1 in /usr/local/lib/python3.7/dist-packages (from google-auth<3,>=1.6.3->tensorboard~=2.6->tensorflow) (0.2.8)\n",
            "Requirement already satisfied: requests-oauthlib>=0.7.0 in /usr/local/lib/python3.7/dist-packages (from google-auth-oauthlib<0.5,>=0.4.1->tensorboard~=2.6->tensorflow) (1.3.0)\n",
            "Requirement already satisfied: importlib-metadata>=4.4 in /usr/local/lib/python3.7/dist-packages (from markdown>=2.6.8->tensorboard~=2.6->tensorflow) (4.8.2)\n",
            "Requirement already satisfied: zipp>=0.5 in /usr/local/lib/python3.7/dist-packages (from importlib-metadata>=4.4->markdown>=2.6.8->tensorboard~=2.6->tensorflow) (3.6.0)\n",
            "Requirement already satisfied: pyasn1<0.5.0,>=0.4.6 in /usr/local/lib/python3.7/dist-packages (from pyasn1-modules>=0.2.1->google-auth<3,>=1.6.3->tensorboard~=2.6->tensorflow) (0.4.8)\n",
            "Requirement already satisfied: chardet<4,>=3.0.2 in /usr/local/lib/python3.7/dist-packages (from requests<3,>=2.21.0->tensorboard~=2.6->tensorflow) (3.0.4)\n",
            "Requirement already satisfied: certifi>=2017.4.17 in /usr/local/lib/python3.7/dist-packages (from requests<3,>=2.21.0->tensorboard~=2.6->tensorflow) (2021.10.8)\n",
            "Requirement already satisfied: urllib3!=1.25.0,!=1.25.1,<1.26,>=1.21.1 in /usr/local/lib/python3.7/dist-packages (from requests<3,>=2.21.0->tensorboard~=2.6->tensorflow) (1.24.3)\n",
            "Requirement already satisfied: idna<3,>=2.5 in /usr/local/lib/python3.7/dist-packages (from requests<3,>=2.21.0->tensorboard~=2.6->tensorflow) (2.10)\n",
            "Requirement already satisfied: oauthlib>=3.0.0 in /usr/local/lib/python3.7/dist-packages (from requests-oauthlib>=0.7.0->google-auth-oauthlib<0.5,>=0.4.1->tensorboard~=2.6->tensorflow) (3.1.1)\n"
          ]
        }
      ]
    },
    {
      "cell_type": "code",
      "metadata": {
        "id": "9gU4Z5luee-I"
      },
      "source": [
        "#PREPARATION DE L'ENVIRONMENT\n",
        "#Installation de packages\n",
        "from sklearn import datasets #BASE DE DONNE\n",
        "import numpy as np\n",
        "import tensorflow as tf \n",
        "from sklearn.preprocessing import StandardScaler #STANDARISER LES DONNEES\n",
        "from sklearn.model_selection import train_test_split"
      ],
      "execution_count": null,
      "outputs": []
    },
    {
      "cell_type": "code",
      "metadata": {
        "id": "YvrK4d42fB3v"
      },
      "source": [
        "#Telecharger la base de données / UPLOAD BDD CLASSIQUE DU CANCER DU SEIN\n",
        "df = datasets.load_breast_cancer()"
      ],
      "execution_count": null,
      "outputs": []
    },
    {
      "cell_type": "code",
      "metadata": {
        "id": "zy612NikfVDW",
        "colab": {
          "base_uri": "https://localhost:8080/"
        },
        "outputId": "0b1a2a3c-eeb5-4e60-a91d-65eddad93c82"
      },
      "source": [
        "#Decouvrir la basee de données\n",
        "print(df.DESCR)"
      ],
      "execution_count": null,
      "outputs": [
        {
          "output_type": "stream",
          "name": "stdout",
          "text": [
            ".. _breast_cancer_dataset:\n",
            "\n",
            "Breast cancer wisconsin (diagnostic) dataset\n",
            "--------------------------------------------\n",
            "\n",
            "**Data Set Characteristics:**\n",
            "\n",
            "    :Number of Instances: 569\n",
            "\n",
            "    :Number of Attributes: 30 numeric, predictive attributes and the class\n",
            "\n",
            "    :Attribute Information:\n",
            "        - radius (mean of distances from center to points on the perimeter)\n",
            "        - texture (standard deviation of gray-scale values)\n",
            "        - perimeter\n",
            "        - area\n",
            "        - smoothness (local variation in radius lengths)\n",
            "        - compactness (perimeter^2 / area - 1.0)\n",
            "        - concavity (severity of concave portions of the contour)\n",
            "        - concave points (number of concave portions of the contour)\n",
            "        - symmetry\n",
            "        - fractal dimension (\"coastline approximation\" - 1)\n",
            "\n",
            "        The mean, standard error, and \"worst\" or largest (mean of the three\n",
            "        worst/largest values) of these features were computed for each image,\n",
            "        resulting in 30 features.  For instance, field 0 is Mean Radius, field\n",
            "        10 is Radius SE, field 20 is Worst Radius.\n",
            "\n",
            "        - class:\n",
            "                - WDBC-Malignant\n",
            "                - WDBC-Benign\n",
            "\n",
            "    :Summary Statistics:\n",
            "\n",
            "    ===================================== ====== ======\n",
            "                                           Min    Max\n",
            "    ===================================== ====== ======\n",
            "    radius (mean):                        6.981  28.11\n",
            "    texture (mean):                       9.71   39.28\n",
            "    perimeter (mean):                     43.79  188.5\n",
            "    area (mean):                          143.5  2501.0\n",
            "    smoothness (mean):                    0.053  0.163\n",
            "    compactness (mean):                   0.019  0.345\n",
            "    concavity (mean):                     0.0    0.427\n",
            "    concave points (mean):                0.0    0.201\n",
            "    symmetry (mean):                      0.106  0.304\n",
            "    fractal dimension (mean):             0.05   0.097\n",
            "    radius (standard error):              0.112  2.873\n",
            "    texture (standard error):             0.36   4.885\n",
            "    perimeter (standard error):           0.757  21.98\n",
            "    area (standard error):                6.802  542.2\n",
            "    smoothness (standard error):          0.002  0.031\n",
            "    compactness (standard error):         0.002  0.135\n",
            "    concavity (standard error):           0.0    0.396\n",
            "    concave points (standard error):      0.0    0.053\n",
            "    symmetry (standard error):            0.008  0.079\n",
            "    fractal dimension (standard error):   0.001  0.03\n",
            "    radius (worst):                       7.93   36.04\n",
            "    texture (worst):                      12.02  49.54\n",
            "    perimeter (worst):                    50.41  251.2\n",
            "    area (worst):                         185.2  4254.0\n",
            "    smoothness (worst):                   0.071  0.223\n",
            "    compactness (worst):                  0.027  1.058\n",
            "    concavity (worst):                    0.0    1.252\n",
            "    concave points (worst):               0.0    0.291\n",
            "    symmetry (worst):                     0.156  0.664\n",
            "    fractal dimension (worst):            0.055  0.208\n",
            "    ===================================== ====== ======\n",
            "\n",
            "    :Missing Attribute Values: None\n",
            "\n",
            "    :Class Distribution: 212 - Malignant, 357 - Benign\n",
            "\n",
            "    :Creator:  Dr. William H. Wolberg, W. Nick Street, Olvi L. Mangasarian\n",
            "\n",
            "    :Donor: Nick Street\n",
            "\n",
            "    :Date: November, 1995\n",
            "\n",
            "This is a copy of UCI ML Breast Cancer Wisconsin (Diagnostic) datasets.\n",
            "https://goo.gl/U2Uwz2\n",
            "\n",
            "Features are computed from a digitized image of a fine needle\n",
            "aspirate (FNA) of a breast mass.  They describe\n",
            "characteristics of the cell nuclei present in the image.\n",
            "\n",
            "Separating plane described above was obtained using\n",
            "Multisurface Method-Tree (MSM-T) [K. P. Bennett, \"Decision Tree\n",
            "Construction Via Linear Programming.\" Proceedings of the 4th\n",
            "Midwest Artificial Intelligence and Cognitive Science Society,\n",
            "pp. 97-101, 1992], a classification method which uses linear\n",
            "programming to construct a decision tree.  Relevant features\n",
            "were selected using an exhaustive search in the space of 1-4\n",
            "features and 1-3 separating planes.\n",
            "\n",
            "The actual linear program used to obtain the separating plane\n",
            "in the 3-dimensional space is that described in:\n",
            "[K. P. Bennett and O. L. Mangasarian: \"Robust Linear\n",
            "Programming Discrimination of Two Linearly Inseparable Sets\",\n",
            "Optimization Methods and Software 1, 1992, 23-34].\n",
            "\n",
            "This database is also available through the UW CS ftp server:\n",
            "\n",
            "ftp ftp.cs.wisc.edu\n",
            "cd math-prog/cpo-dataset/machine-learn/WDBC/\n",
            "\n",
            ".. topic:: References\n",
            "\n",
            "   - W.N. Street, W.H. Wolberg and O.L. Mangasarian. Nuclear feature extraction \n",
            "     for breast tumor diagnosis. IS&T/SPIE 1993 International Symposium on \n",
            "     Electronic Imaging: Science and Technology, volume 1905, pages 861-870,\n",
            "     San Jose, CA, 1993.\n",
            "   - O.L. Mangasarian, W.N. Street and W.H. Wolberg. Breast cancer diagnosis and \n",
            "     prognosis via linear programming. Operations Research, 43(4), pages 570-577, \n",
            "     July-August 1995.\n",
            "   - W.H. Wolberg, W.N. Street, and O.L. Mangasarian. Machine learning techniques\n",
            "     to diagnose breast cancer from fine-needle aspirates. Cancer Letters 77 (1994) \n",
            "     163-171.\n"
          ]
        }
      ]
    },
    {
      "cell_type": "code",
      "metadata": {
        "id": "lX4TI7fGgw_P",
        "colab": {
          "base_uri": "https://localhost:8080/"
        },
        "outputId": "c8221d96-b8da-4a3b-d00d-14481b547702"
      },
      "source": [
        "df.data #affichage des données\n",
        "df.target #indique si il y a ou pas un cancer"
      ],
      "execution_count": null,
      "outputs": [
        {
          "output_type": "execute_result",
          "data": {
            "text/plain": [
              "array([0, 0, 0, 0, 0, 0, 0, 0, 0, 0, 0, 0, 0, 0, 0, 0, 0, 0, 0, 1, 1, 1,\n",
              "       0, 0, 0, 0, 0, 0, 0, 0, 0, 0, 0, 0, 0, 0, 0, 1, 0, 0, 0, 0, 0, 0,\n",
              "       0, 0, 1, 0, 1, 1, 1, 1, 1, 0, 0, 1, 0, 0, 1, 1, 1, 1, 0, 1, 0, 0,\n",
              "       1, 1, 1, 1, 0, 1, 0, 0, 1, 0, 1, 0, 0, 1, 1, 1, 0, 0, 1, 0, 0, 0,\n",
              "       1, 1, 1, 0, 1, 1, 0, 0, 1, 1, 1, 0, 0, 1, 1, 1, 1, 0, 1, 1, 0, 1,\n",
              "       1, 1, 1, 1, 1, 1, 1, 0, 0, 0, 1, 0, 0, 1, 1, 1, 0, 0, 1, 0, 1, 0,\n",
              "       0, 1, 0, 0, 1, 1, 0, 1, 1, 0, 1, 1, 1, 1, 0, 1, 1, 1, 1, 1, 1, 1,\n",
              "       1, 1, 0, 1, 1, 1, 1, 0, 0, 1, 0, 1, 1, 0, 0, 1, 1, 0, 0, 1, 1, 1,\n",
              "       1, 0, 1, 1, 0, 0, 0, 1, 0, 1, 0, 1, 1, 1, 0, 1, 1, 0, 0, 1, 0, 0,\n",
              "       0, 0, 1, 0, 0, 0, 1, 0, 1, 0, 1, 1, 0, 1, 0, 0, 0, 0, 1, 1, 0, 0,\n",
              "       1, 1, 1, 0, 1, 1, 1, 1, 1, 0, 0, 1, 1, 0, 1, 1, 0, 0, 1, 0, 1, 1,\n",
              "       1, 1, 0, 1, 1, 1, 1, 1, 0, 1, 0, 0, 0, 0, 0, 0, 0, 0, 0, 0, 0, 0,\n",
              "       0, 0, 1, 1, 1, 1, 1, 1, 0, 1, 0, 1, 1, 0, 1, 1, 0, 1, 0, 0, 1, 1,\n",
              "       1, 1, 1, 1, 1, 1, 1, 1, 1, 1, 1, 0, 1, 1, 0, 1, 0, 1, 1, 1, 1, 1,\n",
              "       1, 1, 1, 1, 1, 1, 1, 1, 1, 0, 1, 1, 1, 0, 1, 0, 1, 1, 1, 1, 0, 0,\n",
              "       0, 1, 1, 1, 1, 0, 1, 0, 1, 0, 1, 1, 1, 0, 1, 1, 1, 1, 1, 1, 1, 0,\n",
              "       0, 0, 1, 1, 1, 1, 1, 1, 1, 1, 1, 1, 1, 0, 0, 1, 0, 0, 0, 1, 0, 0,\n",
              "       1, 1, 1, 1, 1, 0, 1, 1, 1, 1, 1, 0, 1, 1, 1, 0, 1, 1, 0, 0, 1, 1,\n",
              "       1, 1, 1, 1, 0, 1, 1, 1, 1, 1, 1, 1, 0, 1, 1, 1, 1, 1, 0, 1, 1, 0,\n",
              "       1, 1, 1, 1, 1, 1, 1, 1, 1, 1, 1, 1, 0, 1, 0, 0, 1, 0, 1, 1, 1, 1,\n",
              "       1, 0, 1, 1, 0, 1, 0, 1, 1, 0, 1, 0, 1, 1, 1, 1, 1, 1, 1, 1, 0, 0,\n",
              "       1, 1, 1, 1, 1, 1, 0, 1, 1, 1, 1, 1, 1, 1, 1, 1, 1, 0, 1, 1, 1, 1,\n",
              "       1, 1, 1, 0, 1, 0, 1, 1, 0, 1, 1, 1, 1, 1, 0, 0, 1, 0, 1, 0, 1, 1,\n",
              "       1, 1, 1, 0, 1, 1, 0, 1, 0, 1, 0, 0, 1, 1, 1, 0, 1, 1, 1, 1, 1, 1,\n",
              "       1, 1, 1, 1, 1, 0, 1, 0, 0, 1, 1, 1, 1, 1, 1, 1, 1, 1, 1, 1, 1, 1,\n",
              "       1, 1, 1, 1, 1, 1, 1, 1, 1, 1, 1, 1, 0, 0, 0, 0, 0, 0, 1])"
            ]
          },
          "metadata": {},
          "execution_count": 5
        }
      ]
    },
    {
      "cell_type": "code",
      "metadata": {
        "id": "lcdd18Ong-Dm"
      },
      "source": [
        "# Preparer les données \n",
        "x = df.data #varibale dependente\n",
        "y = df.target #variable independante"
      ],
      "execution_count": null,
      "outputs": []
    },
    {
      "cell_type": "code",
      "metadata": {
        "id": "zWf2DJ-zhJY-",
        "colab": {
          "base_uri": "https://localhost:8080/"
        },
        "outputId": "eb5a02bd-039b-471d-d34e-19424002d6d9"
      },
      "source": [
        "#standariser les données \n",
        "scaler = StandardScaler()\n",
        "x_scaled = scaler.fit_transform(x)\n",
        "x_scaled"
      ],
      "execution_count": null,
      "outputs": [
        {
          "output_type": "execute_result",
          "data": {
            "text/plain": [
              "array([[ 1.09706398, -2.07333501,  1.26993369, ...,  2.29607613,\n",
              "         2.75062224,  1.93701461],\n",
              "       [ 1.82982061, -0.35363241,  1.68595471, ...,  1.0870843 ,\n",
              "        -0.24388967,  0.28118999],\n",
              "       [ 1.57988811,  0.45618695,  1.56650313, ...,  1.95500035,\n",
              "         1.152255  ,  0.20139121],\n",
              "       ...,\n",
              "       [ 0.70228425,  2.0455738 ,  0.67267578, ...,  0.41406869,\n",
              "        -1.10454895, -0.31840916],\n",
              "       [ 1.83834103,  2.33645719,  1.98252415, ...,  2.28998549,\n",
              "         1.91908301,  2.21963528],\n",
              "       [-1.80840125,  1.22179204, -1.81438851, ..., -1.74506282,\n",
              "        -0.04813821, -0.75120669]])"
            ]
          },
          "metadata": {},
          "execution_count": 7
        }
      ]
    },
    {
      "cell_type": "code",
      "metadata": {
        "id": "tIy8IMIShyYX"
      },
      "source": [
        "#separation des données de entrenaiment et données des test : xtrain=entree de entrenment xtest= entree de test y=sortie\n",
        "x_train, x_test, y_train, y_test=train_test_split(x_scaled, y, test_size=0.2, random_state=42)"
      ],
      "execution_count": null,
      "outputs": []
    },
    {
      "cell_type": "code",
      "metadata": {
        "colab": {
          "base_uri": "https://localhost:8080/"
        },
        "id": "YVS0FmMzi3Cg",
        "outputId": "f2d7caa7-b93c-40ad-f7e1-7cfdb9af2049"
      },
      "source": [
        "#affichage de taille d'entree\n",
        "print(x_train.shape, x_test.shape)"
      ],
      "execution_count": null,
      "outputs": [
        {
          "output_type": "stream",
          "name": "stdout",
          "text": [
            "(455, 30) (114, 30)\n"
          ]
        }
      ]
    },
    {
      "cell_type": "code",
      "metadata": {
        "id": "JPJKD8V4jX5W"
      },
      "source": [
        "# Construction de resau de neurone \n",
        "# Creation du reseau de neurone\n",
        "model = tf.keras.models.Sequential()"
      ],
      "execution_count": null,
      "outputs": []
    },
    {
      "cell_type": "code",
      "metadata": {
        "id": "y_-G33szj-C2"
      },
      "source": [
        "#1er Couche entrée: \n",
        "#[utiliser 15 noeuds], avec [la fonctions ReLU pour l'entrée], [le poids initialiser a uniform]\n",
        "model.add(tf.keras.layers.Dense(units=15, activation='relu', kernel_initializer='uniform', input_dim=30))"
      ],
      "execution_count": null,
      "outputs": []
    },
    {
      "cell_type": "code",
      "metadata": {
        "id": "IAh3FHEKlHmN"
      },
      "source": [
        "#Couche sortie : \n",
        "#[nombre noeuds  1] pour une sortie de [fonction sigmoid (valeurs entre 0 , 1)]\n",
        "model.add(tf.keras.layers.Dense(units=1, activation='sigmoid', kernel_initializer='uniform'))"
      ],
      "execution_count": null,
      "outputs": []
    },
    {
      "cell_type": "code",
      "metadata": {
        "id": "3HkmGzN9lYCG"
      },
      "source": [
        "# Compilation et rajout de la fonction cout pour la backpropagation\n",
        "#[optimazer :comment les poids seront mise a jour] ,[fonction de cout :loss], [calcul de precision du model : combien de fois ya des erreur ou pas]\n",
        "model.compile(optimizer='adam', loss='binary_crossentropy', metrics=['binary_accuracy'])"
      ],
      "execution_count": null,
      "outputs": []
    },
    {
      "cell_type": "code",
      "metadata": {
        "colab": {
          "base_uri": "https://localhost:8080/"
        },
        "id": "DZ9PJ8zAlm9E",
        "outputId": "12164975-41ab-4233-8a68-2b37ff703d87"
      },
      "source": [
        "#Affichage du model(resaux) construit \n",
        "model.summary()"
      ],
      "execution_count": null,
      "outputs": [
        {
          "output_type": "stream",
          "name": "stdout",
          "text": [
            "Model: \"sequential\"\n",
            "_________________________________________________________________\n",
            " Layer (type)                Output Shape              Param #   \n",
            "=================================================================\n",
            " dense (Dense)               (None, 15)                465       \n",
            "                                                                 \n",
            " dense_1 (Dense)             (None, 1)                 16        \n",
            "                                                                 \n",
            "=================================================================\n",
            "Total params: 481\n",
            "Trainable params: 481\n",
            "Non-trainable params: 0\n",
            "_________________________________________________________________\n"
          ]
        }
      ]
    },
    {
      "cell_type": "code",
      "metadata": {
        "id": "gIciXMzbm0NA",
        "colab": {
          "base_uri": "https://localhost:8080/"
        },
        "outputId": "f7ea8adc-22a2-4c07-ce9e-d2455c925d3d"
      },
      "source": [
        "#Entrainer le resaux\n",
        "#affacter les poids adequats pour faire des prevision les plus correcte possible\n",
        "#fonction fit :([x,y train =sur la base de données de entrenainemnt],[batch size= faire passer des element precis de la bdd \"conseillé pour photo\"],[epochs= combien de fois bdd passe pour entrainer le model])\n",
        "model.fit(x_train, y_train, epochs=100)"
      ],
      "execution_count": null,
      "outputs": [
        {
          "output_type": "stream",
          "name": "stdout",
          "text": [
            "Epoch 1/100\n",
            "15/15 [==============================] - 1s 1ms/step - loss: 0.6830 - binary_accuracy: 0.7692\n",
            "Epoch 2/100\n",
            "15/15 [==============================] - 0s 1ms/step - loss: 0.6494 - binary_accuracy: 0.9099\n",
            "Epoch 3/100\n",
            "15/15 [==============================] - 0s 2ms/step - loss: 0.5924 - binary_accuracy: 0.9187\n",
            "Epoch 4/100\n",
            "15/15 [==============================] - 0s 1ms/step - loss: 0.5125 - binary_accuracy: 0.9209\n",
            "Epoch 5/100\n",
            "15/15 [==============================] - 0s 1ms/step - loss: 0.4260 - binary_accuracy: 0.9231\n",
            "Epoch 6/100\n",
            "15/15 [==============================] - 0s 1ms/step - loss: 0.3491 - binary_accuracy: 0.9297\n",
            "Epoch 7/100\n",
            "15/15 [==============================] - 0s 1ms/step - loss: 0.2898 - binary_accuracy: 0.9297\n",
            "Epoch 8/100\n",
            "15/15 [==============================] - 0s 1ms/step - loss: 0.2462 - binary_accuracy: 0.9385\n",
            "Epoch 9/100\n",
            "15/15 [==============================] - 0s 2ms/step - loss: 0.2149 - binary_accuracy: 0.9473\n",
            "Epoch 10/100\n",
            "15/15 [==============================] - 0s 1ms/step - loss: 0.1913 - binary_accuracy: 0.9560\n",
            "Epoch 11/100\n",
            "15/15 [==============================] - 0s 2ms/step - loss: 0.1723 - binary_accuracy: 0.9582\n",
            "Epoch 12/100\n",
            "15/15 [==============================] - 0s 2ms/step - loss: 0.1568 - binary_accuracy: 0.9648\n",
            "Epoch 13/100\n",
            "15/15 [==============================] - 0s 1ms/step - loss: 0.1437 - binary_accuracy: 0.9648\n",
            "Epoch 14/100\n",
            "15/15 [==============================] - 0s 1ms/step - loss: 0.1329 - binary_accuracy: 0.9692\n",
            "Epoch 15/100\n",
            "15/15 [==============================] - 0s 2ms/step - loss: 0.1238 - binary_accuracy: 0.9714\n",
            "Epoch 16/100\n",
            "15/15 [==============================] - 0s 2ms/step - loss: 0.1163 - binary_accuracy: 0.9758\n",
            "Epoch 17/100\n",
            "15/15 [==============================] - 0s 2ms/step - loss: 0.1101 - binary_accuracy: 0.9780\n",
            "Epoch 18/100\n",
            "15/15 [==============================] - 0s 2ms/step - loss: 0.1048 - binary_accuracy: 0.9780\n",
            "Epoch 19/100\n",
            "15/15 [==============================] - 0s 1ms/step - loss: 0.1004 - binary_accuracy: 0.9780\n",
            "Epoch 20/100\n",
            "15/15 [==============================] - 0s 1ms/step - loss: 0.0964 - binary_accuracy: 0.9780\n",
            "Epoch 21/100\n",
            "15/15 [==============================] - 0s 1ms/step - loss: 0.0929 - binary_accuracy: 0.9802\n",
            "Epoch 22/100\n",
            "15/15 [==============================] - 0s 1ms/step - loss: 0.0897 - binary_accuracy: 0.9824\n",
            "Epoch 23/100\n",
            "15/15 [==============================] - 0s 2ms/step - loss: 0.0867 - binary_accuracy: 0.9824\n",
            "Epoch 24/100\n",
            "15/15 [==============================] - 0s 1ms/step - loss: 0.0839 - binary_accuracy: 0.9824\n",
            "Epoch 25/100\n",
            "15/15 [==============================] - 0s 1ms/step - loss: 0.0813 - binary_accuracy: 0.9868\n",
            "Epoch 26/100\n",
            "15/15 [==============================] - 0s 1ms/step - loss: 0.0789 - binary_accuracy: 0.9868\n",
            "Epoch 27/100\n",
            "15/15 [==============================] - 0s 2ms/step - loss: 0.0769 - binary_accuracy: 0.9868\n",
            "Epoch 28/100\n",
            "15/15 [==============================] - 0s 2ms/step - loss: 0.0752 - binary_accuracy: 0.9868\n",
            "Epoch 29/100\n",
            "15/15 [==============================] - 0s 1ms/step - loss: 0.0737 - binary_accuracy: 0.9868\n",
            "Epoch 30/100\n",
            "15/15 [==============================] - 0s 2ms/step - loss: 0.0726 - binary_accuracy: 0.9868\n",
            "Epoch 31/100\n",
            "15/15 [==============================] - 0s 1ms/step - loss: 0.0711 - binary_accuracy: 0.9868\n",
            "Epoch 32/100\n",
            "15/15 [==============================] - 0s 1ms/step - loss: 0.0698 - binary_accuracy: 0.9868\n",
            "Epoch 33/100\n",
            "15/15 [==============================] - 0s 1ms/step - loss: 0.0686 - binary_accuracy: 0.9868\n",
            "Epoch 34/100\n",
            "15/15 [==============================] - 0s 1ms/step - loss: 0.0674 - binary_accuracy: 0.9868\n",
            "Epoch 35/100\n",
            "15/15 [==============================] - 0s 1ms/step - loss: 0.0665 - binary_accuracy: 0.9868\n",
            "Epoch 36/100\n",
            "15/15 [==============================] - 0s 2ms/step - loss: 0.0655 - binary_accuracy: 0.9868\n",
            "Epoch 37/100\n",
            "15/15 [==============================] - 0s 1ms/step - loss: 0.0648 - binary_accuracy: 0.9868\n",
            "Epoch 38/100\n",
            "15/15 [==============================] - 0s 2ms/step - loss: 0.0637 - binary_accuracy: 0.9846\n",
            "Epoch 39/100\n",
            "15/15 [==============================] - 0s 2ms/step - loss: 0.0632 - binary_accuracy: 0.9846\n",
            "Epoch 40/100\n",
            "15/15 [==============================] - 0s 2ms/step - loss: 0.0625 - binary_accuracy: 0.9846\n",
            "Epoch 41/100\n",
            "15/15 [==============================] - 0s 2ms/step - loss: 0.0616 - binary_accuracy: 0.9846\n",
            "Epoch 42/100\n",
            "15/15 [==============================] - 0s 2ms/step - loss: 0.0610 - binary_accuracy: 0.9846\n",
            "Epoch 43/100\n",
            "15/15 [==============================] - 0s 1ms/step - loss: 0.0602 - binary_accuracy: 0.9846\n",
            "Epoch 44/100\n",
            "15/15 [==============================] - 0s 1ms/step - loss: 0.0596 - binary_accuracy: 0.9846\n",
            "Epoch 45/100\n",
            "15/15 [==============================] - 0s 1ms/step - loss: 0.0588 - binary_accuracy: 0.9846\n",
            "Epoch 46/100\n",
            "15/15 [==============================] - 0s 2ms/step - loss: 0.0582 - binary_accuracy: 0.9846\n",
            "Epoch 47/100\n",
            "15/15 [==============================] - 0s 1ms/step - loss: 0.0576 - binary_accuracy: 0.9846\n",
            "Epoch 48/100\n",
            "15/15 [==============================] - 0s 1ms/step - loss: 0.0569 - binary_accuracy: 0.9846\n",
            "Epoch 49/100\n",
            "15/15 [==============================] - 0s 1ms/step - loss: 0.0564 - binary_accuracy: 0.9846\n",
            "Epoch 50/100\n",
            "15/15 [==============================] - 0s 2ms/step - loss: 0.0559 - binary_accuracy: 0.9846\n",
            "Epoch 51/100\n",
            "15/15 [==============================] - 0s 1ms/step - loss: 0.0553 - binary_accuracy: 0.9868\n",
            "Epoch 52/100\n",
            "15/15 [==============================] - 0s 2ms/step - loss: 0.0547 - binary_accuracy: 0.9868\n",
            "Epoch 53/100\n",
            "15/15 [==============================] - 0s 2ms/step - loss: 0.0543 - binary_accuracy: 0.9868\n",
            "Epoch 54/100\n",
            "15/15 [==============================] - 0s 1ms/step - loss: 0.0538 - binary_accuracy: 0.9868\n",
            "Epoch 55/100\n",
            "15/15 [==============================] - 0s 1ms/step - loss: 0.0534 - binary_accuracy: 0.9868\n",
            "Epoch 56/100\n",
            "15/15 [==============================] - 0s 2ms/step - loss: 0.0528 - binary_accuracy: 0.9846\n",
            "Epoch 57/100\n",
            "15/15 [==============================] - 0s 2ms/step - loss: 0.0524 - binary_accuracy: 0.9846\n",
            "Epoch 58/100\n",
            "15/15 [==============================] - 0s 2ms/step - loss: 0.0519 - binary_accuracy: 0.9846\n",
            "Epoch 59/100\n",
            "15/15 [==============================] - 0s 1ms/step - loss: 0.0516 - binary_accuracy: 0.9846\n",
            "Epoch 60/100\n",
            "15/15 [==============================] - 0s 1ms/step - loss: 0.0511 - binary_accuracy: 0.9846\n",
            "Epoch 61/100\n",
            "15/15 [==============================] - 0s 1ms/step - loss: 0.0506 - binary_accuracy: 0.9846\n",
            "Epoch 62/100\n",
            "15/15 [==============================] - 0s 2ms/step - loss: 0.0503 - binary_accuracy: 0.9846\n",
            "Epoch 63/100\n",
            "15/15 [==============================] - 0s 1ms/step - loss: 0.0497 - binary_accuracy: 0.9846\n",
            "Epoch 64/100\n",
            "15/15 [==============================] - 0s 1ms/step - loss: 0.0495 - binary_accuracy: 0.9846\n",
            "Epoch 65/100\n",
            "15/15 [==============================] - 0s 1ms/step - loss: 0.0489 - binary_accuracy: 0.9846\n",
            "Epoch 66/100\n",
            "15/15 [==============================] - 0s 1ms/step - loss: 0.0485 - binary_accuracy: 0.9846\n",
            "Epoch 67/100\n",
            "15/15 [==============================] - 0s 1ms/step - loss: 0.0482 - binary_accuracy: 0.9846\n",
            "Epoch 68/100\n",
            "15/15 [==============================] - 0s 1ms/step - loss: 0.0476 - binary_accuracy: 0.9846\n",
            "Epoch 69/100\n",
            "15/15 [==============================] - 0s 2ms/step - loss: 0.0473 - binary_accuracy: 0.9846\n",
            "Epoch 70/100\n",
            "15/15 [==============================] - 0s 2ms/step - loss: 0.0473 - binary_accuracy: 0.9846\n",
            "Epoch 71/100\n",
            "15/15 [==============================] - 0s 2ms/step - loss: 0.0467 - binary_accuracy: 0.9846\n",
            "Epoch 72/100\n",
            "15/15 [==============================] - 0s 2ms/step - loss: 0.0464 - binary_accuracy: 0.9846\n",
            "Epoch 73/100\n",
            "15/15 [==============================] - 0s 1ms/step - loss: 0.0460 - binary_accuracy: 0.9846\n",
            "Epoch 74/100\n",
            "15/15 [==============================] - 0s 1ms/step - loss: 0.0456 - binary_accuracy: 0.9846\n",
            "Epoch 75/100\n",
            "15/15 [==============================] - 0s 1ms/step - loss: 0.0454 - binary_accuracy: 0.9846\n",
            "Epoch 76/100\n",
            "15/15 [==============================] - 0s 1ms/step - loss: 0.0447 - binary_accuracy: 0.9868\n",
            "Epoch 77/100\n",
            "15/15 [==============================] - 0s 1ms/step - loss: 0.0442 - binary_accuracy: 0.9868\n",
            "Epoch 78/100\n",
            "15/15 [==============================] - 0s 2ms/step - loss: 0.0439 - binary_accuracy: 0.9868\n",
            "Epoch 79/100\n",
            "15/15 [==============================] - 0s 2ms/step - loss: 0.0438 - binary_accuracy: 0.9868\n",
            "Epoch 80/100\n",
            "15/15 [==============================] - 0s 2ms/step - loss: 0.0432 - binary_accuracy: 0.9890\n",
            "Epoch 81/100\n",
            "15/15 [==============================] - 0s 2ms/step - loss: 0.0429 - binary_accuracy: 0.9890\n",
            "Epoch 82/100\n",
            "15/15 [==============================] - 0s 2ms/step - loss: 0.0426 - binary_accuracy: 0.9890\n",
            "Epoch 83/100\n",
            "15/15 [==============================] - 0s 2ms/step - loss: 0.0425 - binary_accuracy: 0.9868\n",
            "Epoch 84/100\n",
            "15/15 [==============================] - 0s 1ms/step - loss: 0.0419 - binary_accuracy: 0.9868\n",
            "Epoch 85/100\n",
            "15/15 [==============================] - 0s 1ms/step - loss: 0.0418 - binary_accuracy: 0.9868\n",
            "Epoch 86/100\n",
            "15/15 [==============================] - 0s 1ms/step - loss: 0.0413 - binary_accuracy: 0.9890\n",
            "Epoch 87/100\n",
            "15/15 [==============================] - 0s 1ms/step - loss: 0.0411 - binary_accuracy: 0.9890\n",
            "Epoch 88/100\n",
            "15/15 [==============================] - 0s 1ms/step - loss: 0.0409 - binary_accuracy: 0.9890\n",
            "Epoch 89/100\n",
            "15/15 [==============================] - 0s 1ms/step - loss: 0.0405 - binary_accuracy: 0.9890\n",
            "Epoch 90/100\n",
            "15/15 [==============================] - 0s 2ms/step - loss: 0.0401 - binary_accuracy: 0.9890\n",
            "Epoch 91/100\n",
            "15/15 [==============================] - 0s 1ms/step - loss: 0.0399 - binary_accuracy: 0.9890\n",
            "Epoch 92/100\n",
            "15/15 [==============================] - 0s 1ms/step - loss: 0.0395 - binary_accuracy: 0.9890\n",
            "Epoch 93/100\n",
            "15/15 [==============================] - 0s 1ms/step - loss: 0.0393 - binary_accuracy: 0.9890\n",
            "Epoch 94/100\n",
            "15/15 [==============================] - 0s 1ms/step - loss: 0.0390 - binary_accuracy: 0.9890\n",
            "Epoch 95/100\n",
            "15/15 [==============================] - 0s 1ms/step - loss: 0.0388 - binary_accuracy: 0.9890\n",
            "Epoch 96/100\n",
            "15/15 [==============================] - 0s 1ms/step - loss: 0.0387 - binary_accuracy: 0.9912\n",
            "Epoch 97/100\n",
            "15/15 [==============================] - 0s 2ms/step - loss: 0.0382 - binary_accuracy: 0.9912\n",
            "Epoch 98/100\n",
            "15/15 [==============================] - 0s 1ms/step - loss: 0.0378 - binary_accuracy: 0.9912\n",
            "Epoch 99/100\n",
            "15/15 [==============================] - 0s 1ms/step - loss: 0.0377 - binary_accuracy: 0.9890\n",
            "Epoch 100/100\n",
            "15/15 [==============================] - 0s 1ms/step - loss: 0.0373 - binary_accuracy: 0.9890\n"
          ]
        },
        {
          "output_type": "execute_result",
          "data": {
            "text/plain": [
              "<keras.callbacks.History at 0x7f821345b110>"
            ]
          },
          "metadata": {},
          "execution_count": 15
        }
      ]
    },
    {
      "cell_type": "code",
      "metadata": {
        "colab": {
          "base_uri": "https://localhost:8080/"
        },
        "id": "fXPxmvJ1n0Ln",
        "outputId": "6558a559-d5c1-460d-b8a8-54119bb2a097"
      },
      "source": [
        "#tester le model faisant la evaluation a partir des données x,y test\n",
        "test_loss,test_accuracy = model.evaluate(x_test, y_test)\n",
        "print(f'Test accuracy {test_accuracy}  et Test Loss {test_loss}')"
      ],
      "execution_count": null,
      "outputs": [
        {
          "output_type": "stream",
          "name": "stdout",
          "text": [
            "4/4 [==============================] - 0s 2ms/step - loss: 0.0515 - binary_accuracy: 0.9825\n",
            "Test accuracy 0.9824561476707458  et Test Loss 0.05151033401489258\n"
          ]
        }
      ]
    },
    {
      "cell_type": "code",
      "source": [
        ""
      ],
      "metadata": {
        "id": "qoowWHwVRZpS"
      },
      "execution_count": null,
      "outputs": []
    }
  ]
}